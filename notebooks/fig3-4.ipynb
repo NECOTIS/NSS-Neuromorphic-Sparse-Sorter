{
 "cells": [
  {
   "cell_type": "code",
   "execution_count": null,
   "metadata": {},
   "outputs": [],
   "source": [
    "import numpy as np\n",
    "import matplotlib.pyplot as plt\n",
    "import spikeinterface.full as si\n",
    "from sparsesorter.models.nss import NSS\n",
    "from sparsesorter.utils.plot import plot_nss_output\n",
    "from sparsesorter.utils.metrics import compute_fscore_evolution\n",
    "from sparsesorter.utils.dataloader import build_dataloader\n",
    "from pathlib import Path\n",
    "\n",
    "data_path = Path(\"../data\")"
   ]
  },
  {
   "cell_type": "markdown",
   "metadata": {},
   "source": [
    "### Load Dataset\n"
   ]
  },
  {
   "cell_type": "code",
   "execution_count": null,
   "metadata": {},
   "outputs": [],
   "source": [
    "ds_file = data_path / \"TS1.h5\"\n",
    "dataset, dataloader = build_dataloader(ds_file)\n",
    "print(\"Loaded Spike Wafeforms: \", dataset[\"wvs\"].shape)"
   ]
  },
  {
   "cell_type": "markdown",
   "metadata": {},
   "source": [
    "### Init NSS\n"
   ]
  },
  {
   "cell_type": "code",
   "execution_count": null,
   "metadata": {},
   "outputs": [],
   "source": [
    "nss = NSS(\n",
    "    input_size=dataset[\"wvs\"].shape[1],\n",
    "    net_size=[120, 10],\n",
    "    threshold=0.03,\n",
    "    gamma=0.05,\n",
    "    lr=0.07,\n",
    "    bit_width=1,\n",
    ")"
   ]
  },
  {
   "cell_type": "markdown",
   "metadata": {},
   "source": [
    "### Fit & transform\n",
    "\n",
    "NSS process batch of 16 detected and pre-processed spike waveforms\n"
   ]
  },
  {
   "cell_type": "code",
   "execution_count": null,
   "metadata": {},
   "outputs": [],
   "source": [
    "nss_out, n_spikes = nss.fit_transform(dataloader)\n",
    "sorted_spikes = np.argmax(nss_out, axis=1).astype(int)  # select most active neuron\n",
    "packet_size = 400\n",
    "spike_processed, fscore_nss_packet = compute_fscore_evolution(\n",
    "    sorted_spikes, dataset, packet_size\n",
    ")"
   ]
  },
  {
   "cell_type": "code",
   "execution_count": null,
   "metadata": {},
   "outputs": [],
   "source": [
    "print(f\" SNR : {dataset['snr']}\")\n",
    "print(f\" F1-score : {fscore_nss_packet[:, -10:].mean(axis=1)}\")\n",
    "print(f\" F1-score (overall avg) : {np.mean(fscore_nss_packet[:, -10:])}\")"
   ]
  },
  {
   "cell_type": "markdown",
   "metadata": {},
   "source": [
    "### FIG4.A : Plot evolution of NSS F1-score\n"
   ]
  },
  {
   "cell_type": "code",
   "execution_count": null,
   "metadata": {},
   "outputs": [],
   "source": [
    "# plot the fscore for each packet of 100 detected spikes processed by the NSS\n",
    "fig, ax = plt.subplots()\n",
    "# sort by snr\n",
    "idx = np.argsort(dataset[\"snr\"])\n",
    "fscore_nss_packet = fscore_nss_packet[idx]\n",
    "ax.plot(fscore_nss_packet.T)\n",
    "ax.legend(dataset[\"snr\"][idx].round(1))\n",
    "ax.set_xlabel(\"Number of spikes processed\")\n",
    "ax.set_ylabel(\"F1-score\")\n",
    "plt.show()"
   ]
  },
  {
   "cell_type": "markdown",
   "metadata": {},
   "source": [
    "### FIG3 : Recording Trace, Ground Truth Raster and Inferred raster\n"
   ]
  },
  {
   "cell_type": "markdown",
   "metadata": {},
   "source": [
    "Load recording trace and align the trace from one channel with the ground truth raster and inferred raster by NSS to get the Fig3.\n"
   ]
  },
  {
   "cell_type": "code",
   "execution_count": null,
   "metadata": {},
   "outputs": [],
   "source": [
    "# get trace and waveforms\n",
    "rec_f = si.load_extractor(data_path / \"TS1_recording\")  # TR1_recording\n",
    "mads = si.get_noise_levels(rec_f, return_scaled=False)\n",
    "detection_th = 5 * mads"
   ]
  },
  {
   "cell_type": "code",
   "execution_count": null,
   "metadata": {},
   "outputs": [],
   "source": [
    "plot_nss_output(nss_out, dataset, rec_f, detection_th)"
   ]
  }
 ],
 "metadata": {
  "kernelspec": {
   "display_name": "lca_env",
   "language": "python",
   "name": "python3"
  },
  "language_info": {
   "codemirror_mode": {
    "name": "ipython",
    "version": 3
   },
   "file_extension": ".py",
   "mimetype": "text/x-python",
   "name": "python",
   "nbconvert_exporter": "python",
   "pygments_lexer": "ipython3",
   "version": "3.10.13"
  }
 },
 "nbformat": 4,
 "nbformat_minor": 2
}
