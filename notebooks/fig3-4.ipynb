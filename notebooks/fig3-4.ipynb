{
 "cells": [
  {
   "cell_type": "code",
   "execution_count": 2,
   "metadata": {},
   "outputs": [],
   "source": [
    "import numpy as np\n",
    "import matplotlib.pyplot as plt\n",
    "import spikeinterface.full as si\n",
    "from sparsesorter.models.nss import NSS\n",
    "from sparsesorter.utils.metrics import compute_fscore_evolution\n",
    "from sparsesorter.utils.dataloader import build_dataloader\n",
    "from pathlib import Path\n",
    "\n",
    "data_path = Path(\"../data\")"
   ]
  },
  {
   "cell_type": "markdown",
   "metadata": {},
   "source": [
    "### Load Dataset\n"
   ]
  },
  {
   "cell_type": "code",
   "execution_count": 3,
   "metadata": {},
   "outputs": [
    {
     "name": "stdout",
     "output_type": "stream",
     "text": [
      "Loaded Spike Wafeforms:  (9883, 120)\n"
     ]
    }
   ],
   "source": [
    "ds_file = data_path / \"TS1.h5\"\n",
    "dataset, dataloader = build_dataloader(ds_file)\n",
    "print(\"Loaded Spike Wafeforms: \", dataset[\"wvs\"].shape)"
   ]
  },
  {
   "cell_type": "markdown",
   "metadata": {},
   "source": [
    "### Init NSS\n"
   ]
  },
  {
   "cell_type": "code",
   "execution_count": null,
   "metadata": {},
   "outputs": [],
   "source": [
    "nss = NSS(\n",
    "    input_size=dataset[\"wvs\"].shape[1],\n",
    "    net_size=[120, 10],\n",
    "    threshold=0.03,\n",
    "    gamma=0.005,\n",
    "    lr=0.07,\n",
    "    bit_width=1,\n",
    ")"
   ]
  },
  {
   "cell_type": "markdown",
   "metadata": {},
   "source": [
    "### Fit & transform\n",
    "\n",
    "NSS process batch of 16 detected and pre-processed spike waveforms\n"
   ]
  },
  {
   "cell_type": "code",
   "execution_count": null,
   "metadata": {},
   "outputs": [],
   "source": [
    "nss_out, n_spikes = nss.fit_transform(dataloader)\n",
    "sorted_spikes = np.argmax(nss_out, axis=1).astype(int)  # select most active neuron\n",
    "packet_size = 400\n",
    "spike_processed, fscore_nss_packet = compute_fscore_evolution(\n",
    "    sorted_spikes, dataset, packet_size\n",
    ")"
   ]
  },
  {
   "cell_type": "code",
   "execution_count": null,
   "metadata": {},
   "outputs": [],
   "source": [
    "print(f\" SNR : {dataset['snr']}\")\n",
    "print(f\" F1-score : {fscore_nss_packet[:, -10:].mean(axis=1)}\")\n",
    "print(f\" F1-score (overall avg) : {np.mean(fscore_nss_packet[:, -10:])}\")"
   ]
  },
  {
   "cell_type": "markdown",
   "metadata": {},
   "source": [
    "### FIG4.A : Plot evolution of NSS F1-score\n"
   ]
  },
  {
   "cell_type": "code",
   "execution_count": null,
   "metadata": {},
   "outputs": [],
   "source": [
    "# plot the fscore for each packet of 100 detected spikes processed by the NSS\n",
    "fig, ax = plt.subplots()\n",
    "# sort by snr\n",
    "idx = np.argsort(dataset[\"snr\"])\n",
    "fscore_nss_packet = fscore_nss_packet[idx]\n",
    "ax.plot(fscore_nss_packet.T)\n",
    "ax.legend(dataset[\"snr\"][idx].round(1))\n",
    "ax.set_xlabel(\"Number of spikes processed\")\n",
    "ax.set_ylabel(\"F1-score\")\n",
    "plt.show()"
   ]
  },
  {
   "cell_type": "markdown",
   "metadata": {},
   "source": [
    "### FIG3 : Recording Trace, Ground Truth Raster and Inferred raster\n"
   ]
  },
  {
   "cell_type": "markdown",
   "metadata": {},
   "source": [
    "Load recording trace and align the trace from one channel with the ground truth raster and inferred raster by NSS to get the Fig3.\n"
   ]
  },
  {
   "cell_type": "code",
   "execution_count": null,
   "metadata": {},
   "outputs": [],
   "source": [
    "import numpy as np\n",
    "import matplotlib.pyplot as plt\n",
    "from matplotlib import gridspec\n",
    "from pathlib import Path\n",
    "from sparsesorter.utils.metrics import SortingMetrics\n",
    "\n",
    "figures_path = Path(\"../figures\")\n",
    "plt.style.use(\"seaborn-v0_8-paper\")\n",
    "\n",
    "\n",
    "def plot_nss_output(nss_out, dataset, rec_f, detection_th):\n",
    "\n",
    "    sorted_spikes = np.argmax(nss_out, axis=1).astype(int)  # select most active neuron\n",
    "    gtsort_comp = SortingMetrics(\n",
    "        sorted_spikes,\n",
    "        dataset[\"raster\"],\n",
    "        dataset[\"gt_raster\"],\n",
    "        dataset[\"fs\"],\n",
    "        delta_time=1,\n",
    "    )\n",
    "    sorting_perf = gtsort_comp.get_sorting_perf(match_mode=\"hungarian\")\n",
    "    best_match_12 = sorting_perf.best_match_12\n",
    "    natoms_out = nss_out.shape[1]\n",
    "\n",
    "    fs = rec_f.get_sampling_frequency()\n",
    "    nneurons = np.unique(dataset[\"gt_raster\"][1]).shape[0]\n",
    "    nchan = rec_f.get_num_channels()\n",
    "\n",
    "    fig = plt.figure(figsize=(6, 7), dpi=150)\n",
    "    time_range = (75, 80)  # time range in s\n",
    "    t = np.arange(time_range[0], time_range[1], 1 / fs)\n",
    "    peaks_train = dataset[\"raster\"]\n",
    "    mask_trange = (peaks_train >= time_range[0] * fs) & (\n",
    "        peaks_train < time_range[1] * fs\n",
    "    )\n",
    "    peaks = peaks_train[mask_trange]\n",
    "    trace = rec_f.get_traces()[int(time_range[0] * fs) : int(time_range[1] * fs), :]\n",
    "    min_trace, max_trace = np.min(trace) - 10, np.max(trace) + 10\n",
    "\n",
    "    gs = gridspec.GridSpec(6, 1, height_ratios=[0.1, 0.1, 0.1, 0.1, 0.15, 0.4])\n",
    "    # create a subplot of 4 rows and 1 column with gs[0:3]\n",
    "    ax03 = [plt.subplot(gs[i]) for i in range(4)]\n",
    "    ax1 = plt.subplot(gs[4])\n",
    "    ax2 = plt.subplot(gs[5])\n",
    "    for ch in range(nchan):\n",
    "        trace_ch = rec_f.get_traces()[\n",
    "            int(time_range[0] * fs) : int(time_range[1] * fs), ch\n",
    "        ]\n",
    "        ax03[ch].plot(t, trace_ch, c=\"k\", alpha=0.5)  # trace\n",
    "        ax03[ch].axhline(\n",
    "            -detection_th[ch], c=\"k\", linestyle=\"--\"\n",
    "        )  # detection threshold\n",
    "        ax03[ch].spines[[\"bottom\", \"top\", \"right\"]].set_visible(False)\n",
    "        ax03[ch].set_xticks([])\n",
    "        ax03[ch].set_ylim(min_trace, max_trace)\n",
    "        ax03[ch].set_ylabel(f\"Ch{ch+1}\")\n",
    "        for p in peaks:\n",
    "            win_width = 3 * fs // 1000\n",
    "            trace_window = rec_f.get_traces()[\n",
    "                p - int(0.4 * win_width) : p + int(0.6 * win_width), :\n",
    "            ]\n",
    "            p -= int(time_range[0] * fs)\n",
    "            max_chan = np.argmax(np.max(np.abs(trace_window), axis=0))\n",
    "            if max_chan == ch:\n",
    "                t_window = t[p - int(0.4 * win_width) : p + int(0.6 * win_width)]\n",
    "                ax03[ch].plot(t_window, trace_window[:, ch], c=\"k\")\n",
    "\n",
    "    peaks = peaks - int(time_range[0] * fs)\n",
    "    # plot gt_raster_train on the same time range\n",
    "    gtr_train = dataset[\"gt_raster\"]\n",
    "    gtr_train = gtr_train[\n",
    "        :, (gtr_train[0] >= time_range[0] * fs) & (gtr_train[0] < time_range[1] * fs)\n",
    "    ]\n",
    "    c_unit = plt.cm.Set1(np.linspace(0, 1, 9))\n",
    "    for i in range(nneurons):\n",
    "        idx = np.where(gtr_train[1] == i)[0]\n",
    "        ax1.vlines(gtr_train[0][idx] / fs, i - 0.4, i + 0.4, color=c_unit[i], lw=0.8)\n",
    "    ax1.set_ylabel(\"Ground Truth\")\n",
    "    ax1.spines[[\"bottom\", \"top\", \"right\"]].set_visible(False)\n",
    "    ax1.set_yticks(np.arange(0, nneurons, 1))\n",
    "    # ax1.set_yticklabels([])\n",
    "    ax1.set_xticks([])\n",
    "\n",
    "    # plot pred_raster on the same time range\n",
    "    c_out_nss = plt.cm.tab10(np.linspace(0, 1, 10))\n",
    "    for i, out_i in enumerate(nss_out[mask_trange]):\n",
    "        peak_i = peaks[i]\n",
    "        atom_active = len(out_i) - np.argmax(out_i)\n",
    "        ax2.vlines(peak_i / fs, atom_active - 0.4, atom_active + 0.4, color=\"k\", lw=0.8)\n",
    "    ax2.set_ylabel(\"Inferred Raster - NSS\")\n",
    "    ax2.spines[[\"top\", \"right\"]].set_visible(False)\n",
    "    # set y-ticks at every 1 unit but label at every 2 units\n",
    "    ax2.set_yticks(np.arange(1, natoms_out + 1, 1))\n",
    "    ax2.set_yticklabels([])\n",
    "    ax2.tick_params(axis=\"y\", which=\"major\")\n",
    "    ax2.set_yticks(np.arange(1, natoms_out + 1, 2), minor=True)\n",
    "    ax2.set_yticklabels(np.arange(1, natoms_out + 1, 2), minor=True)\n",
    "    ax2.tick_params(axis=\"y\", which=\"minor\", labelsize=8)\n",
    "    ax2.set_xticks(np.arange(t[0], t[-1] + 1, 1) - t[0])\n",
    "    ax2.set_xticklabels(np.arange(t[0], t[-1] + 1, 1, dtype=int))\n",
    "    ax2.set_xlabel(\"Time (s)\")\n",
    "\n",
    "    # draw a rectangle around the vlines of the atom 0\n",
    "    for ni in range(nneurons):\n",
    "        pos_y = nss_out.shape[1] - best_match_12[ni] - 0.4\n",
    "        len_x = time_range[1] - time_range[0]\n",
    "        ax2.add_patch(\n",
    "            plt.Rectangle(\n",
    "                (0, pos_y), len_x + 0.1, 0.8, fill=False, edgecolor=c_unit[ni], lw=1\n",
    "            )\n",
    "        )\n",
    "    plt.savefig(figures_path / \"fig3.svg\")\n",
    "    plt.show()"
   ]
  },
  {
   "cell_type": "code",
   "execution_count": null,
   "metadata": {},
   "outputs": [],
   "source": [
    "# get trace and waveforms\n",
    "rec_f = si.load_extractor(data_path / \"TS1_recording\")  # TR1_recording\n",
    "mads = si.get_noise_levels(rec_f, return_scaled=False)\n",
    "detection_th = 5 * mads"
   ]
  },
  {
   "cell_type": "code",
   "execution_count": null,
   "metadata": {},
   "outputs": [],
   "source": [
    "plot_nss_output(nss_out, dataset, rec_f, detection_th)"
   ]
  }
 ],
 "metadata": {
  "kernelspec": {
   "display_name": "lca_env",
   "language": "python",
   "name": "python3"
  },
  "language_info": {
   "codemirror_mode": {
    "name": "ipython",
    "version": 3
   },
   "file_extension": ".py",
   "mimetype": "text/x-python",
   "name": "python",
   "nbconvert_exporter": "python",
   "pygments_lexer": "ipython3",
   "version": "3.10.13"
  }
 },
 "nbformat": 4,
 "nbformat_minor": 2
}
