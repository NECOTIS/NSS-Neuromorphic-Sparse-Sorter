{
 "cells": [
  {
   "cell_type": "code",
   "execution_count": 2,
   "metadata": {},
   "outputs": [],
   "source": [
    "import numpy as np\n",
    "import matplotlib.pyplot as plt\n",
    "import spikeinterface.full as si\n",
    "from sparsesorter.models.nss import NSS\n",
    "from sparsesorter.utils.metrics import compute_fscore_evolution\n",
    "from sparsesorter.utils.dataloader import build_dataloader, init_dataloader\n",
    "from pathlib import Path\n",
    "\n",
    "data_path = Path(\"../data\")"
   ]
  },
  {
   "cell_type": "markdown",
   "metadata": {},
   "source": [
    "### Load Dataset\n"
   ]
  },
  {
   "cell_type": "code",
   "execution_count": 3,
   "metadata": {},
   "outputs": [
    {
     "name": "stdout",
     "output_type": "stream",
     "text": [
      "### dataset TS1 ###\n",
      "## without FP ##\n",
      "# seed 0 #\n"
     ]
    },
    {
     "name": "stderr",
     "output_type": "stream",
     "text": [
      "100%|██████████| 486/486 [00:28<00:00, 17.18it/s]\n"
     ]
    },
    {
     "name": "stdout",
     "output_type": "stream",
     "text": [
      "f1s : 0.7535848867169661\n",
      "# seed 1 #\n"
     ]
    },
    {
     "name": "stderr",
     "output_type": "stream",
     "text": [
      "100%|██████████| 486/486 [00:31<00:00, 15.59it/s]\n"
     ]
    },
    {
     "name": "stdout",
     "output_type": "stream",
     "text": [
      "f1s : 0.736966223817568\n",
      "# seed 2 #\n"
     ]
    },
    {
     "name": "stderr",
     "output_type": "stream",
     "text": [
      "100%|██████████| 486/486 [00:30<00:00, 16.07it/s]\n"
     ]
    },
    {
     "name": "stdout",
     "output_type": "stream",
     "text": [
      "f1s : 0.7572640124721893\n",
      "## with FP ##\n",
      "# seed 0 #\n"
     ]
    },
    {
     "name": "stderr",
     "output_type": "stream",
     "text": [
      "100%|██████████| 503/503 [00:34<00:00, 14.52it/s]\n"
     ]
    },
    {
     "name": "stdout",
     "output_type": "stream",
     "text": [
      "f1s : 0.7157602819509735\n",
      "# seed 1 #\n"
     ]
    },
    {
     "name": "stderr",
     "output_type": "stream",
     "text": [
      "100%|██████████| 503/503 [00:30<00:00, 16.28it/s]\n"
     ]
    },
    {
     "name": "stdout",
     "output_type": "stream",
     "text": [
      "f1s : 0.7413204527859552\n",
      "# seed 2 #\n"
     ]
    },
    {
     "name": "stderr",
     "output_type": "stream",
     "text": [
      "100%|██████████| 503/503 [00:33<00:00, 15.20it/s]\n"
     ]
    },
    {
     "name": "stdout",
     "output_type": "stream",
     "text": [
      "f1s : 0.778559836638318\n",
      "### dataset TS2 ###\n",
      "## without FP ##\n",
      "# seed 0 #\n"
     ]
    },
    {
     "name": "stderr",
     "output_type": "stream",
     "text": [
      "100%|██████████| 496/496 [00:32<00:00, 15.38it/s]\n"
     ]
    },
    {
     "name": "stdout",
     "output_type": "stream",
     "text": [
      "f1s : 0.7019498732072694\n",
      "# seed 1 #\n"
     ]
    },
    {
     "name": "stderr",
     "output_type": "stream",
     "text": [
      "100%|██████████| 496/496 [00:25<00:00, 19.08it/s]\n"
     ]
    },
    {
     "name": "stdout",
     "output_type": "stream",
     "text": [
      "f1s : 0.7439245881646374\n",
      "# seed 2 #\n"
     ]
    },
    {
     "name": "stderr",
     "output_type": "stream",
     "text": [
      "100%|██████████| 496/496 [00:23<00:00, 21.42it/s]\n"
     ]
    },
    {
     "name": "stdout",
     "output_type": "stream",
     "text": [
      "f1s : 0.6408314132210207\n",
      "## with FP ##\n",
      "# seed 0 #\n"
     ]
    },
    {
     "name": "stderr",
     "output_type": "stream",
     "text": [
      "100%|██████████| 519/519 [00:24<00:00, 21.24it/s]\n"
     ]
    },
    {
     "name": "stdout",
     "output_type": "stream",
     "text": [
      "f1s : 0.6531071526247629\n",
      "# seed 1 #\n"
     ]
    },
    {
     "name": "stderr",
     "output_type": "stream",
     "text": [
      "100%|██████████| 519/519 [00:24<00:00, 21.45it/s]\n"
     ]
    },
    {
     "name": "stdout",
     "output_type": "stream",
     "text": [
      "f1s : 0.6761935930861479\n",
      "# seed 2 #\n"
     ]
    },
    {
     "name": "stderr",
     "output_type": "stream",
     "text": [
      "100%|██████████| 519/519 [00:24<00:00, 21.26it/s]\n"
     ]
    },
    {
     "name": "stdout",
     "output_type": "stream",
     "text": [
      "f1s : 0.6822398511163178\n",
      "### dataset TS3 ###\n",
      "## without FP ##\n",
      "# seed 0 #\n"
     ]
    },
    {
     "name": "stderr",
     "output_type": "stream",
     "text": [
      "100%|██████████| 603/603 [00:27<00:00, 21.67it/s]\n"
     ]
    },
    {
     "name": "stdout",
     "output_type": "stream",
     "text": [
      "f1s : 0.8479340533718099\n",
      "# seed 1 #\n"
     ]
    },
    {
     "name": "stderr",
     "output_type": "stream",
     "text": [
      "100%|██████████| 603/603 [00:27<00:00, 21.70it/s]\n"
     ]
    },
    {
     "name": "stdout",
     "output_type": "stream",
     "text": [
      "f1s : 0.8518142793151571\n",
      "# seed 2 #\n"
     ]
    },
    {
     "name": "stderr",
     "output_type": "stream",
     "text": [
      "100%|██████████| 603/603 [00:28<00:00, 21.41it/s]\n"
     ]
    },
    {
     "name": "stdout",
     "output_type": "stream",
     "text": [
      "f1s : 0.8344185343219277\n",
      "## with FP ##\n",
      "# seed 0 #\n"
     ]
    },
    {
     "name": "stderr",
     "output_type": "stream",
     "text": [
      "100%|██████████| 618/618 [00:28<00:00, 21.91it/s]\n"
     ]
    },
    {
     "name": "stdout",
     "output_type": "stream",
     "text": [
      "f1s : 0.7041248905004057\n",
      "# seed 1 #\n"
     ]
    },
    {
     "name": "stderr",
     "output_type": "stream",
     "text": [
      "100%|██████████| 618/618 [00:28<00:00, 21.36it/s]\n"
     ]
    },
    {
     "name": "stdout",
     "output_type": "stream",
     "text": [
      "f1s : 0.8726603931524572\n",
      "# seed 2 #\n"
     ]
    },
    {
     "name": "stderr",
     "output_type": "stream",
     "text": [
      "100%|██████████| 618/618 [00:28<00:00, 21.59it/s]\n"
     ]
    },
    {
     "name": "stdout",
     "output_type": "stream",
     "text": [
      "f1s : 0.8241305398676303\n",
      "### dataset TS4 ###\n",
      "## without FP ##\n",
      "# seed 0 #\n"
     ]
    },
    {
     "name": "stderr",
     "output_type": "stream",
     "text": [
      "100%|██████████| 539/539 [00:25<00:00, 20.94it/s]\n"
     ]
    },
    {
     "name": "stdout",
     "output_type": "stream",
     "text": [
      "f1s : 0.7526156987869473\n",
      "# seed 1 #\n"
     ]
    },
    {
     "name": "stderr",
     "output_type": "stream",
     "text": [
      "100%|██████████| 539/539 [00:24<00:00, 21.89it/s]\n"
     ]
    },
    {
     "name": "stdout",
     "output_type": "stream",
     "text": [
      "f1s : 0.7373711332082541\n",
      "# seed 2 #\n"
     ]
    },
    {
     "name": "stderr",
     "output_type": "stream",
     "text": [
      "100%|██████████| 539/539 [00:25<00:00, 21.40it/s]\n"
     ]
    },
    {
     "name": "stdout",
     "output_type": "stream",
     "text": [
      "f1s : 0.7330084097462767\n",
      "## with FP ##\n",
      "# seed 0 #\n"
     ]
    },
    {
     "name": "stderr",
     "output_type": "stream",
     "text": [
      "100%|██████████| 553/553 [00:25<00:00, 21.70it/s]\n"
     ]
    },
    {
     "name": "stdout",
     "output_type": "stream",
     "text": [
      "f1s : 0.7006261470160248\n",
      "# seed 1 #\n"
     ]
    },
    {
     "name": "stderr",
     "output_type": "stream",
     "text": [
      "100%|██████████| 553/553 [00:25<00:00, 21.48it/s]\n"
     ]
    },
    {
     "name": "stdout",
     "output_type": "stream",
     "text": [
      "f1s : 0.7866417099190957\n",
      "# seed 2 #\n"
     ]
    },
    {
     "name": "stderr",
     "output_type": "stream",
     "text": [
      "100%|██████████| 553/553 [00:25<00:00, 21.63it/s]\n"
     ]
    },
    {
     "name": "stdout",
     "output_type": "stream",
     "text": [
      "f1s : 0.7554373334589746\n"
     ]
    }
   ],
   "source": [
    "datasets = [\"TS1\", \"TS2\", \"TS3\", \"TS4\"]\n",
    "with_fps = [False, True]\n",
    "batch_size = 16\n",
    "res = {\n",
    "    \"TS1\": {\"w/ FP\": [], \"w/o FP\": []},\n",
    "    \"TS2\": {\"w/ FP\": [], \"w/o FP\": []},\n",
    "    \"TS3\": {\"w/ FP\": [], \"w/o FP\": []},\n",
    "    \"TS4\": {\"w/ FP\": [], \"w/o FP\": []},\n",
    "}\n",
    "for ds in datasets:\n",
    "    print(f\"### dataset {ds} ###\")\n",
    "    for fps in with_fps:\n",
    "        print(f\"## {'with' if fps else 'without'} FP ##\")\n",
    "        for s in range(3):\n",
    "            print(f\"# seed {s} #\")\n",
    "            ds_file = data_path / f\"{ds}.h5\"\n",
    "            dataset, dataloader = build_dataloader(ds_file, batch_size=batch_size)\n",
    "            if not fps:\n",
    "                fs = dataset[\"fs\"]\n",
    "                gtr = dataset[\"gt_raster\"]\n",
    "                snr = dataset[\"snr\"]\n",
    "                peaks_idx = dataset[\"raster\"]\n",
    "                peaks_idx_copy = np.copy(peaks_idx)\n",
    "                unique, counts = np.unique(gtr[1], return_counts=True)\n",
    "                delta_time = 1\n",
    "                tp = np.zeros(len(snr))\n",
    "                fn = np.zeros_like(tp)\n",
    "                fp = 0\n",
    "                not_detected_gt_spikes = []\n",
    "                well_detected_spikes = []\n",
    "                labels_peaks = -1 * np.ones(len(peaks_idx))\n",
    "                for i in range(gtr.shape[1]):\n",
    "                    idx = np.where(\n",
    "                        np.abs(peaks_idx_copy - gtr[0, i]) <= delta_time * fs / 1000\n",
    "                    )  # search for a spike in a 1ms range\n",
    "                    if idx[0].size > 0:\n",
    "                        tp[gtr[1, i]] += 1\n",
    "                        well_detected_spikes.append(i)\n",
    "                        idx_closest = np.argmin(np.abs(peaks_idx_copy - gtr[0, i]))\n",
    "                        # store the label gtr[1, i] in the labels_peaks array at the index of the detected peak in peaks_idx\n",
    "                        labels_peaks[\n",
    "                            np.where(peaks_idx == peaks_idx_copy[idx_closest])\n",
    "                        ] = gtr[1, i]\n",
    "                        peaks_idx_copy = np.delete(peaks_idx_copy, idx_closest)\n",
    "\n",
    "                    else:\n",
    "                        fn[gtr[1, i]] += 1\n",
    "                        not_detected_gt_spikes.append(i)\n",
    "                fp = len(peaks_idx) - len(well_detected_spikes)\n",
    "                precision = tp / counts\n",
    "                recall = tp / (tp + fn)\n",
    "                fprate = fp / (fp + tp)\n",
    "\n",
    "                mask = labels_peaks != -1\n",
    "                dataset[\"wvs\"] = dataset[\"wvs\"][mask]\n",
    "                dataset[\"raster\"] = dataset[\"raster\"][mask]\n",
    "                dataloader = init_dataloader(\n",
    "                    dataset[\"wvs\"], dataset[\"raster\"], batch_size, normalize=False\n",
    "                )\n",
    "            nss = NSS(\n",
    "                input_size=dataset[\"wvs\"].shape[1],\n",
    "                net_size=[120, 10],\n",
    "                threshold=0.03,\n",
    "                gamma=0.05,\n",
    "                lr=0.07,\n",
    "                bit_width=2,\n",
    "                seed=s,\n",
    "            )\n",
    "            nss_out, n_spikes = nss.fit_transform(dataloader)\n",
    "            sorted_spikes = np.argmax(nss_out, axis=1).astype(\n",
    "                int\n",
    "            )  # select most active neuron\n",
    "            packet_size = 200\n",
    "            spike_processed, fscore_nss_packet = compute_fscore_evolution(\n",
    "                sorted_spikes, dataset, packet_size\n",
    "            )\n",
    "            res[ds][f\"w/ FP\" if fps else \"w/o FP\"].append(fscore_nss_packet)\n",
    "            print(f\"f1s : {np.mean(np.mean(fscore_nss_packet, axis=0)[-5:])}\")"
   ]
  },
  {
   "cell_type": "code",
   "execution_count": null,
   "metadata": {},
   "outputs": [],
   "source": [
    "# save res dict to pickle\n",
    "import pickle\n",
    "\n",
    "with open(\"nss_robustness_false_positive_v2.pkl\", \"wb\") as f:\n",
    "    pickle.dump(res, f)\n",
    "\n",
    "# # load results\n",
    "# with open(\"nss_robustness_false_positive.pkl\", \"rb\") as f:\n",
    "#     res = pickle.load(f)"
   ]
  },
  {
   "cell_type": "code",
   "execution_count": 4,
   "metadata": {},
   "outputs": [
    {
     "data": {
      "image/png": "[encoded data removed]",
      "text/plain": [
       "<Figure size 640x480 with 1 Axes>"
      ]
     },
     "metadata": {},
     "output_type": "display_data"
    }
   ],
   "source": [
    "# compute mean and std\n",
    "th = 10\n",
    "fig, ax = plt.subplots()\n",
    "x_pos = -1\n",
    "for ds in datasets:\n",
    "    x_pos += 1\n",
    "    for fps in res[ds].keys():\n",
    "        f1_score = np.mean(np.mean(np.array(res[ds][fps]), axis=1)[:, -th:], axis=1)\n",
    "        mean, std = np.mean(f1_score), np.std(f1_score)\n",
    "        int_95 = 1.96 * std / np.sqrt(len(res[ds][fps]))\n",
    "\n",
    "        x_pos_b = x_pos + 0.1 if fps == \"w/ FP\" else x_pos - 0.1\n",
    "        color = \"blue\" if fps == \"w/ FP\" else \"orange\"\n",
    "        ax.errorbar(\n",
    "            x_pos_b,\n",
    "            mean,\n",
    "            yerr=int_95,\n",
    "            label=fps,\n",
    "            fmt=\"o\",\n",
    "            color=color,\n",
    "            capsize=5,\n",
    "            elinewidth=2,\n",
    "            markersize=8,\n",
    "        )\n",
    "\n",
    "ax.set_xticks(range(len(datasets)))\n",
    "ax.set_xticklabels(datasets)\n",
    "ax.yaxis.set_minor_locator(plt.MultipleLocator(0.01))\n",
    "ax.yaxis.set_major_locator(plt.MultipleLocator(0.05))\n",
    "ax.set_ylim(0.6, 0.89)\n",
    "ax.tick_params(axis=\"y\", which=\"major\", labelsize=12)\n",
    "ax.tick_params(axis=\"x\", labelsize=12)\n",
    "ax.set_ylabel(\"$F_{1}$ score\", fontsize=12)\n",
    "ax.set_xlabel(\"Dataset\", fontsize=12)\n",
    "\n",
    "handles, labels = ax.get_legend_handles_labels()\n",
    "handles = [handles[0], handles[1]]\n",
    "labels = [labels[0], labels[1]]\n",
    "ax.legend(handles, labels, loc=\"upper left\", fontsize=12, edgecolor=\"w\")\n",
    "ax.spines[[\"top\", \"right\"]].set_visible(False)\n",
    "ax.grid(True, linestyle=\"--\", alpha=0.5)\n",
    "ax.yaxis.grid(True, which=\"minor\", linestyle=\"--\", alpha=0.1)\n",
    "# plt.savefig(\"nss_robustness_false_positive.svg\", dpi=150, bbox_inches='tight')\n",
    "plt.show()"
   ]
  }
 ],
 "metadata": {
  "kernelspec": {
   "display_name": "lca_env",
   "language": "python",
   "name": "python3"
  },
  "language_info": {
   "codemirror_mode": {
    "name": "ipython",
    "version": 3
   },
   "file_extension": ".py",
   "mimetype": "text/x-python",
   "name": "python",
   "nbconvert_exporter": "python",
   "pygments_lexer": "ipython3",
   "version": "3.10.13"
  }
 },
 "nbformat": 4,
 "nbformat_minor": 2
}
