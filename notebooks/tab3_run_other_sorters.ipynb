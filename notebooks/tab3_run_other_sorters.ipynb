{
 "cells": [
  {
   "cell_type": "code",
   "execution_count": 1,
   "metadata": {},
   "outputs": [],
   "source": [
    "import numpy as np\n",
    "import seaborn as sns\n",
    "import pandas as pd\n",
    "import h5py as h5\n",
    "import matplotlib.pyplot as plt\n",
    "import spikeinterface.full as si\n",
    "from sparsesorter.models.nss import NSS\n",
    "from sparsesorter.utils.metrics import compute_fscore_evolution, SortingMetrics\n",
    "from sparsesorter.utils.dataloader import (\n",
    "    build_dataloader,\n",
    "    init_dataloader,\n",
    "    compute_detection_performance,\n",
    ")\n",
    "from pathlib import Path\n",
    "import pickle\n",
    "from spikeinterface import sorters as ss\n",
    "import spikeinterface.extractors as se\n",
    "\n",
    "\n",
    "data_path = Path(\"../data\")"
   ]
  },
  {
   "cell_type": "code",
   "execution_count": 9,
   "metadata": {},
   "outputs": [],
   "source": [
    "# get trace and waveforms\n",
    "ds =\"TS1\"\n",
    "\n",
    "ts1_rec = si.load_extractor(data_path / f\"{ds}_recording\")  # TR1_recording\n",
    "fs = ts1_rec.get_sampling_frequency()\n",
    "\n",
    "# load ground truth\n",
    "ds_file = data_path / f\"{ds}.h5\"\n",
    "with h5.File(ds_file, \"r\") as f:\n",
    "    gt_raster = np.array(f[\"gt_raster\"][:], dtype=np.int32)\n",
    "    try:\n",
    "        snr = np.array(f[\"snr\"][:], dtype=np.float32)\n",
    "    except:\n",
    "        snr = np.array(f[\"snr\"], dtype=np.float32)\n",
    "f.close()"
   ]
  },
  {
   "cell_type": "code",
   "execution_count": 40,
   "metadata": {},
   "outputs": [
    {
     "data": {
      "text/html": [
       "<div style='border:1px solid #ddd; padding:10px;'><strong>BinaryFolderRecording: 4 channels - 10000.0Hz - 1 segments - 2,400,000 samples - 240.00s (4.00 minutes) - float32 dtype - 36.62 MiB</strong></div><details style='margin-left: 10px;'>  <summary><strong>Channel IDs</strong></summary><ul>[0 1 2 3] </details><details style='margin-left: 10px;'>  <summary><strong>Annotations</strong></summary><ul><li> <strong> is_filtered </strong>: False</li><li> <strong> probe_0_planar_contour </strong>: [[-25.0, 100.0], [-25.0, -25.0], [0.0, -125.0], [25.0, -25.0], [25.0, 100.0]]</li><li> <strong> probes_info </strong>: [{}]</li></ul> </details><details style='margin-left: 10px;'><summary><strong>Channel Properties</strong></summary><ul><details><summary> <strong> contact_vector </strong> </summary>[(0, 0.,  0., 'square', 12., 9., '', '0', 0, 'um', 1., 0., 0., 1.)\n",
       " (0, 0., 25., 'square', 12., 9., '', '1', 1, 'um', 1., 0., 0., 1.)\n",
       " (0, 0., 50., 'square', 12., 9., '', '2', 2, 'um', 1., 0., 0., 1.)\n",
       " (0, 0., 75., 'square', 12., 9., '', '3', 3, 'um', 1., 0., 0., 1.)]</details><details><summary> <strong> location </strong> </summary>[[ 0.  0.]\n",
       " [ 0. 25.]\n",
       " [ 0. 50.]\n",
       " [ 0. 75.]]</details><details><summary> <strong> group </strong> </summary>[0 0 0 0]</details></ul></details>"
      ],
      "text/plain": [
       "BinaryFolderRecording: 4 channels - 10000.0Hz - 1 segments - 2,400,000 samples \n",
       "                       240.00s (4.00 minutes) - float32 dtype - 36.62 MiB"
      ]
     },
     "execution_count": 40,
     "metadata": {},
     "output_type": "execute_result"
    }
   ],
   "source": [
    "ts1_rec"
   ]
  },
  {
   "cell_type": "code",
   "execution_count": 48,
   "metadata": {},
   "outputs": [
    {
     "data": {
      "text/plain": [
       "{'detect_sign': 'Use -1 (negative), 1 (positive) or 0 (both) depending on the sign of the spikes in the recording',\n",
       " 'adjacency_radius': 'Radius in um to build channel neighborhood',\n",
       " 'detect_threshold': 'Threshold for spike detection',\n",
       " 'template_width_ms': 'Template width in ms. Recommended values: 3 for in vivo - 5 for in vitro',\n",
       " 'filter': 'Enable or disable filter',\n",
       " 'merge_spikes': 'Enable or disable automatic mergind',\n",
       " 'auto_merge': 'Automatic merging threshold',\n",
       " 'num_workers': 'Number of workers (if None, half of the cpu number is used)',\n",
       " 'whitening_max_elts': 'Max number of events per electrode for whitening',\n",
       " 'clustering_max_elts': 'Max number of events per electrode for clustering'}"
      ]
     },
     "execution_count": 48,
     "metadata": {},
     "output_type": "execute_result"
    }
   ],
   "source": [
    "desc = si.get_sorter_params_description(sorter_name_or_class='spykingcircus')\n",
    "desc"
   ]
  },
  {
   "cell_type": "code",
   "execution_count": 51,
   "metadata": {},
   "outputs": [
    {
     "ename": "AttributeError",
     "evalue": "module 'spikeinterface.sorters' has no attribute 'run_spykingcircus'",
     "output_type": "error",
     "traceback": [
      "\u001b[0;31m---------------------------------------------------------------------------\u001b[0m",
      "\u001b[0;31mAttributeError\u001b[0m                            Traceback (most recent call last)",
      "Cell \u001b[0;32mIn[51], line 17\u001b[0m\n\u001b[1;32m      1\u001b[0m \u001b[38;5;66;03m# #try MountainSort5 \u001b[39;00m\n\u001b[1;32m      2\u001b[0m \u001b[38;5;66;03m# sorting = ss.run_sorter(\u001b[39;00m\n\u001b[1;32m      3\u001b[0m \u001b[38;5;66;03m#     sorter_name=\"mountainsort5\",\u001b[39;00m\n\u001b[0;32m   (...)\u001b[0m\n\u001b[1;32m     12\u001b[0m     \n\u001b[1;32m     13\u001b[0m \u001b[38;5;66;03m# )\u001b[39;00m\n\u001b[1;32m     15\u001b[0m \u001b[38;5;28;01mimport\u001b[39;00m \u001b[38;5;21;01mspikeinterface\u001b[39;00m\u001b[38;5;21;01m.\u001b[39;00m\u001b[38;5;21;01msorters\u001b[39;00m \u001b[38;5;28;01mas\u001b[39;00m \u001b[38;5;21;01mss\u001b[39;00m\n\u001b[0;32m---> 17\u001b[0m sorting_SC \u001b[38;5;241m=\u001b[39m \u001b[43mss\u001b[49m\u001b[38;5;241;43m.\u001b[39;49m\u001b[43mrun_spykingcircus\u001b[49m(\n\u001b[1;32m     18\u001b[0m     recording\u001b[38;5;241m=\u001b[39mts1_rec, \n\u001b[1;32m     19\u001b[0m     \u001b[38;5;28mfilter\u001b[39m \u001b[38;5;241m=\u001b[39m \u001b[38;5;28;01mFalse\u001b[39;00m,\n\u001b[1;32m     20\u001b[0m     docker_image\u001b[38;5;241m=\u001b[39m\u001b[38;5;124m\"\u001b[39m\u001b[38;5;124mspikeinterface/spyking-circus-base:latest\u001b[39m\u001b[38;5;124m\"\u001b[39m, \n\u001b[1;32m     21\u001b[0m     folder \u001b[38;5;241m=\u001b[39m \u001b[38;5;124m\"\u001b[39m\u001b[38;5;124mSPK-folder\u001b[39m\u001b[38;5;124m\"\u001b[39m,\n\u001b[1;32m     22\u001b[0m     remove_existing_folder\u001b[38;5;241m=\u001b[39m\u001b[38;5;28;01mTrue\u001b[39;00m,\n\u001b[1;32m     23\u001b[0m     verbose\u001b[38;5;241m=\u001b[39m\u001b[38;5;28;01mTrue\u001b[39;00m,\n\u001b[1;32m     24\u001b[0m     )\n",
      "\u001b[0;31mAttributeError\u001b[0m: module 'spikeinterface.sorters' has no attribute 'run_spykingcircus'"
     ]
    }
   ],
   "source": [
    "# #try MountainSort5 \n",
    "# sorting = ss.run_sorter(\n",
    "#     sorter_name=\"mountainsort5\",\n",
    "#     recording=ts1_rec,\n",
    "#     docker_image=\"spikeinterface/mountainsort5-base\",\n",
    "#     folder = \"M5-folder\",\n",
    "#     remove_existing_folder=True,\n",
    "#     filter = False,\n",
    "#     detect_threshold=4,\n",
    "#     detect_sign = -1,\n",
    "#     verbose = True,\n",
    "    \n",
    "# )\n",
    "\n",
    "import spikeinterface.sorters as ss\n",
    "si.run_sorter_container()\n",
    "sorting_SC = ss.run_spykingcircus(\n",
    "    recording=ts1_rec, \n",
    "    filter = False,\n",
    "    docker_image=\"spikeinterface/spyking-circus-base:latest\", \n",
    "    folder = \"SPK-folder\",\n",
    "    remove_existing_folder=True,\n",
    "    verbose=True,\n",
    "    )"
   ]
  },
  {
   "cell_type": "code",
   "execution_count": 44,
   "metadata": {},
   "outputs": [],
   "source": [
    "sorted_spikes = np.hstack(\n",
    "    [\n",
    "        [[sorting.to_spike_vector()[i][0]], [sorting.to_spike_vector()[i][1]]]\n",
    "        for i in range(len(sorting.to_spike_vector()))\n",
    "    ],\n",
    "    dtype=np.int32,\n",
    ")\n",
    "# compute metrics"
   ]
  },
  {
   "cell_type": "code",
   "execution_count": 45,
   "metadata": {},
   "outputs": [
    {
     "name": "stdout",
     "output_type": "stream",
     "text": [
      "[0 1 2 3 4 5 6 7 8]\n",
      "[ 640 1160 1523 1577  427   20   17 1963  827]\n"
     ]
    }
   ],
   "source": [
    "unique, count = np.unique(sorted_spikes[1], return_counts=True)\n",
    "print(unique)\n",
    "print(count)"
   ]
  },
  {
   "cell_type": "code",
   "execution_count": 46,
   "metadata": {},
   "outputs": [
    {
     "name": "stdout",
     "output_type": "stream",
     "text": [
      "Precision: [0.26006006 0.25851011 0.2756167  0.26816022 0.26538462]\n",
      "Recall: [0.26006006 0.25851011 0.2756167  0.26816022 0.26538462]\n",
      "False positive rate: [0.93060897 0.91723266 0.90904822 0.93631087 0.93345121]\n"
     ]
    }
   ],
   "source": [
    "delta_time = 5  # ms, time window to search for a spike in the ground truth\n",
    "gtr = np.copy(gt_raster)\n",
    "_, counts = np.unique(gtr[1], return_counts=True)\n",
    "tp, fn, fp = np.zeros(len(snr)), np.zeros(len(snr)), 0\n",
    "well_detected_spikes, not_detected_gt_spikes = [], []\n",
    "peaks_idx, peaks_idx_copy = sorted_spikes[0], np.copy(sorted_spikes[0])\n",
    "labels_peaks = -1 * np.ones(len(peaks_idx))\n",
    "\n",
    "for i in range(gtr.shape[1]):\n",
    "    idx = np.where(\n",
    "        np.abs(peaks_idx_copy - gtr[0, i]) <= delta_time * fs / 1000\n",
    "    )  # search for a spike in a 1ms range\n",
    "    if idx[0].size > 0:\n",
    "        tp[gtr[1, i]] += 1\n",
    "        well_detected_spikes.append(i)\n",
    "        idx_closest = np.argmin(np.abs(peaks_idx_copy - gtr[0, i]))\n",
    "        labels_peaks[np.where(peaks_idx == peaks_idx_copy[idx_closest])] = gtr[1, i]\n",
    "        peaks_idx_copy = np.delete(peaks_idx_copy, idx_closest)\n",
    "    else:\n",
    "        fn[gtr[1, i]] += 1\n",
    "        not_detected_gt_spikes.append(i)\n",
    "fp = len(peaks_idx) - len(well_detected_spikes)\n",
    "precision = tp / counts\n",
    "recall = tp / (tp + fn)\n",
    "fprate = fp / (fp + tp)\n",
    "print(\"Precision:\", precision)\n",
    "print(\"Recall:\", recall)\n",
    "print(\"False positive rate:\", fprate)\n"
   ]
  },
  {
   "cell_type": "code",
   "execution_count": 38,
   "metadata": {},
   "outputs": [
    {
     "data": {
      "text/plain": [
       "array([0., 0., 0., 0., 0.])"
      ]
     },
     "execution_count": 38,
     "metadata": {},
     "output_type": "execute_result"
    }
   ],
   "source": [
    "# sti = 180 *fs\n",
    "# mask_pred = sorted_spikes[0] >= sti\n",
    "# mask_gtr = gt_raster[0] >= sti\n",
    "gtsort_comp = SortingMetrics(\n",
    "    sorted_spikes[1],\n",
    "    sorted_spikes[0],\n",
    "    gt_raster,\n",
    "    fs,\n",
    "    delta_time=2,\n",
    ")\n",
    "score = gtsort_comp.get_fscore()\n",
    "score"
   ]
  },
  {
   "cell_type": "code",
   "execution_count": 39,
   "metadata": {},
   "outputs": [
    {
     "data": {
      "text/html": [
       "<div>\n",
       "<style scoped>\n",
       "    .dataframe tbody tr th:only-of-type {\n",
       "        vertical-align: middle;\n",
       "    }\n",
       "\n",
       "    .dataframe tbody tr th {\n",
       "        vertical-align: top;\n",
       "    }\n",
       "\n",
       "    .dataframe thead th {\n",
       "        text-align: right;\n",
       "    }\n",
       "</style>\n",
       "<table border=\"1\" class=\"dataframe\">\n",
       "  <thead>\n",
       "    <tr style=\"text-align: right;\">\n",
       "      <th></th>\n",
       "      <th>0.0</th>\n",
       "      <th>1.0</th>\n",
       "      <th>2.0</th>\n",
       "      <th>3.0</th>\n",
       "      <th>4.0</th>\n",
       "      <th>5.0</th>\n",
       "      <th>FN</th>\n",
       "    </tr>\n",
       "  </thead>\n",
       "  <tbody>\n",
       "    <tr>\n",
       "      <th>0</th>\n",
       "      <td>0</td>\n",
       "      <td>0</td>\n",
       "      <td>0</td>\n",
       "      <td>0</td>\n",
       "      <td>0</td>\n",
       "      <td>0</td>\n",
       "      <td>1665</td>\n",
       "    </tr>\n",
       "    <tr>\n",
       "      <th>1</th>\n",
       "      <td>0</td>\n",
       "      <td>0</td>\n",
       "      <td>0</td>\n",
       "      <td>0</td>\n",
       "      <td>0</td>\n",
       "      <td>0</td>\n",
       "      <td>2027</td>\n",
       "    </tr>\n",
       "    <tr>\n",
       "      <th>2</th>\n",
       "      <td>0</td>\n",
       "      <td>0</td>\n",
       "      <td>0</td>\n",
       "      <td>0</td>\n",
       "      <td>0</td>\n",
       "      <td>0</td>\n",
       "      <td>2108</td>\n",
       "    </tr>\n",
       "    <tr>\n",
       "      <th>3</th>\n",
       "      <td>0</td>\n",
       "      <td>0</td>\n",
       "      <td>0</td>\n",
       "      <td>0</td>\n",
       "      <td>0</td>\n",
       "      <td>0</td>\n",
       "      <td>1473</td>\n",
       "    </tr>\n",
       "    <tr>\n",
       "      <th>4</th>\n",
       "      <td>0</td>\n",
       "      <td>0</td>\n",
       "      <td>0</td>\n",
       "      <td>0</td>\n",
       "      <td>0</td>\n",
       "      <td>0</td>\n",
       "      <td>1560</td>\n",
       "    </tr>\n",
       "    <tr>\n",
       "      <th>FP</th>\n",
       "      <td>1755</td>\n",
       "      <td>560</td>\n",
       "      <td>1976</td>\n",
       "      <td>1596</td>\n",
       "      <td>444</td>\n",
       "      <td>163</td>\n",
       "      <td>0</td>\n",
       "    </tr>\n",
       "  </tbody>\n",
       "</table>\n",
       "</div>"
      ],
      "text/plain": [
       "     0.0  1.0   2.0   3.0  4.0  5.0    FN\n",
       "0      0    0     0     0    0    0  1665\n",
       "1      0    0     0     0    0    0  2027\n",
       "2      0    0     0     0    0    0  2108\n",
       "3      0    0     0     0    0    0  1473\n",
       "4      0    0     0     0    0    0  1560\n",
       "FP  1755  560  1976  1596  444  163     0"
      ]
     },
     "execution_count": 39,
     "metadata": {},
     "output_type": "execute_result"
    }
   ],
   "source": [
    "confusion_matrix = gtsort_comp.sorting_perf.get_confusion_matrix()\n",
    "confusion_matrix"
   ]
  },
  {
   "cell_type": "code",
   "execution_count": null,
   "metadata": {},
   "outputs": [],
   "source": [
    "# try sorter's docker images\n",
    "test_recording, _ = se.toy_example(duration=30, seed=0, num_channels=64, num_segments=1)\n",
    "test_recording = test_recording.save(folder=\"test-docker-folder\", overwrite=True)"
   ]
  }
 ],
 "metadata": {
  "kernelspec": {
   "display_name": "lca_env",
   "language": "python",
   "name": "python3"
  },
  "language_info": {
   "codemirror_mode": {
    "name": "ipython",
    "version": 3
   },
   "file_extension": ".py",
   "mimetype": "text/x-python",
   "name": "python",
   "nbconvert_exporter": "python",
   "pygments_lexer": "ipython3",
   "version": "3.10.13"
  }
 },
 "nbformat": 4,
 "nbformat_minor": 2
}
