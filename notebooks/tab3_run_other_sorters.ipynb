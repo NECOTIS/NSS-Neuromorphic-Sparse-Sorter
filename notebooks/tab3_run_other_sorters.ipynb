{
 "cells": [
  {
   "cell_type": "code",
   "execution_count": null,
   "metadata": {},
   "outputs": [],
   "source": [
    "import numpy as np\n",
    "import seaborn as sns\n",
    "import pandas as pd\n",
    "import h5py as h5\n",
    "import matplotlib.pyplot as plt\n",
    "import spikeinterface.full as si\n",
    "from sparsesorter.models.nss import NSS\n",
    "from sparsesorter.utils.metrics import compute_fscore_evolution, SortingMetrics\n",
    "from sparsesorter.utils.dataloader import (\n",
    "    build_dataloader,\n",
    "    init_dataloader,\n",
    "    compute_detection_performance,\n",
    ")\n",
    "from pathlib import Path\n",
    "import pickle\n",
    "from spikeinterface import sorters as ss\n",
    "import spikeinterface.extractors as se\n",
    "\n",
    "\n",
    "data_path = Path(\"../data\")"
   ]
  },
  {
   "cell_type": "code",
   "execution_count": null,
   "metadata": {},
   "outputs": [],
   "source": [
    "# try sorter's docker images\n",
    "test_recording, _ = se.toy_example(duration=30, seed=0, num_channels=64, num_segments=1)\n",
    "test_recording = test_recording.save(folder=\"test-docker-folder\", overwrite=True)"
   ]
  },
  {
   "cell_type": "code",
   "execution_count": null,
   "metadata": {},
   "outputs": [],
   "source": [
    "sorting = ss.run_sorter(\n",
    "    sorter_name=\"mountainsort5\",\n",
    "    recording=test_recording,\n",
    "    docker_image=\"spikeinterface/mountainsort5-base\",\n",
    ")\n",
    "\n",
    "print(sorting)"
   ]
  },
  {
   "cell_type": "code",
   "execution_count": null,
   "metadata": {},
   "outputs": [],
   "source": [
    "ds_file = data_path / f\"TS1.h5\"\n",
    "with h5.File(ds_file, \"r\") as f:\n",
    "    wvs = np.array(f[\"wvs\"][:], dtype=np.float32)\n",
    "    gt_raster = np.array(f[\"gt_raster\"][:], dtype=np.int32)\n",
    "    peaks_idx = np.array(f[\"peaks_idx\"][:], dtype=np.int32)\n",
    "    try:\n",
    "        snr = np.array(f[\"snr\"][:], dtype=np.float32)\n",
    "    except:\n",
    "        snr = np.array(f[\"snr\"], dtype=np.float32)\n",
    "f.close()\n",
    "# normalize waveforms with l2-norm\n",
    "l2_norm = np.linalg.norm(wvs, ord=2, axis=1)\n",
    "if np.sum(l2_norm < 1e-6) > 0:\n",
    "    print(\"Warning: some waveforms are null\")\n",
    "wvs = wvs / np.linalg.norm(wvs, ord=2, axis=1)[:, None]\n",
    "# filter and keep only wvs which peaks_idx are below tmax"
   ]
  }
 ],
 "metadata": {
  "kernelspec": {
   "display_name": "lca_env",
   "language": "python",
   "name": "python3"
  },
  "language_info": {
   "codemirror_mode": {
    "name": "ipython",
    "version": 3
   },
   "file_extension": ".py",
   "mimetype": "text/x-python",
   "name": "python",
   "nbconvert_exporter": "python",
   "pygments_lexer": "ipython3",
   "version": "3.10.13"
  }
 },
 "nbformat": 4,
 "nbformat_minor": 2
}
